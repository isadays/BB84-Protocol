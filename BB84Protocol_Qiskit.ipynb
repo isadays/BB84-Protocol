{
  "nbformat": 4,
  "nbformat_minor": 0,
  "metadata": {
    "colab": {
      "provenance": []
    },
    "kernelspec": {
      "name": "python3",
      "display_name": "Python 3"
    },
    "language_info": {
      "name": "python"
    }
  },
  "cells": [
    {
      "cell_type": "code",
      "execution_count": null,
      "metadata": {
        "id": "w3xFn-HgZrqc"
      },
      "outputs": [],
      "source": [
        "# Required (qiskit)\n",
        "!pip install qiskit\n",
        "!pip install qiskit_aer"
      ]
    },
    {
      "cell_type": "code",
      "source": [
        "from qiskit import QuantumCircuit, transpile\n",
        "from qiskit_aer import AerSimulator\n",
        "from qiskit.visualization import plot_histogram\n",
        "import numpy as np\n",
        "from IPython.display import display\n",
        "import matplotlib.pyplot as plt\n"
      ],
      "metadata": {
        "id": "nXyP_WujZxSx"
      },
      "execution_count": null,
      "outputs": []
    },
    {
      "cell_type": "code",
      "source": [
        "%matplotlib inline\n",
        "\n",
        "def run_bb84_simulation(num_bits):\n",
        "    alice_bits = np.random.choice([0, 1], size=num_bits)\n",
        "    alice_bases = np.random.choice([0, 1], size=num_bits)\n",
        "    bob_bases = np.random.choice([0, 1], size=num_bits)\n",
        "\n",
        "    qc = QuantumCircuit(num_bits, num_bits)\n",
        "    for i in range(num_bits):\n",
        "        if alice_bases[i] == 1:\n",
        "            qc.h(i)\n",
        "        if alice_bits[i] == 1:\n",
        "            qc.x(i)\n",
        "        if alice_bases[i] == 1:\n",
        "            qc.h(i)\n",
        "    qc.barrier()\n",
        "    for i in range(num_bits):\n",
        "        if bob_bases[i] == 1:\n",
        "            qc.h(i)\n",
        "        qc.measure(i, i)\n",
        "\n",
        "    simulator = AerSimulator()\n",
        "    job = simulator.run(qc, shots=4000)\n",
        "    result = job.result()\n",
        "    measurements = result.get_counts()\n",
        "    if isinstance(measurements, dict):\n",
        "        plot_histogram(measurements, title=\"BB84 Measurement Outcomes\")\n",
        "        display(plot_histogram(measurements))\n",
        "    else:\n",
        "        print(\"Measurements are not in the expected dictionary format.\")\n",
        "    plot_histogram(result.get_counts(), title=\"BB84 Measurement Outcomes\")\n",
        "    measured_bits = list(measurements.keys())[0][::-1]\n",
        "    sifted_key = [(alice_bits[i], int(measured_bits[i])) for i in range(num_bits) if alice_bases[i] == bob_bases[i]]\n",
        "    qber = calculate_qber(sifted_key)\n",
        "    final_key = None\n",
        "    if qber > 0.25:\n",
        "        print(\"QBER too high, aborting protocol.\")\n",
        "    else:\n",
        "        final_key = privacy_amplification(sifted_key)\n",
        "\n",
        "    return alice_bits, alice_bases, bob_bases, measurements, measured_bits, qber, sifted_key, final_key\n",
        "\n",
        "def calculate_qber(sifted_key):\n",
        "    errors = sum(1 for a, b in sifted_key if a != b)\n",
        "    return errors / len(sifted_key) if sifted_key else 0\n",
        "\n",
        "def privacy_amplification(sifted_key):\n",
        "    from hashlib import sha256\n",
        "    key_string = ''.join(str(bit) for _, bit in sifted_key)\n",
        "    hashed_key = sha256(key_string.encode()).hexdigest()\n",
        "    return hashed_key\n",
        "\n",
        "\n"
      ],
      "metadata": {
        "id": "TiuCMTsPiT0L"
      },
      "execution_count": null,
      "outputs": []
    },
    {
      "cell_type": "markdown",
      "source": [
        "Running the Protocol"
      ],
      "metadata": {
        "id": "JBZAqA99Z4Z9"
      }
    },
    {
      "cell_type": "code",
      "source": [
        "%matplotlib inline\n",
        "\n",
        "num_bits = 10\n",
        "alice_bits, alice_bases, bob_bases, measurements,measured_basis, qber, sifted_key, final_key = run_bb84_simulation(num_bits)\n"
      ],
      "metadata": {
        "id": "fqo-HF0uZ3Yg"
      },
      "execution_count": null,
      "outputs": []
    },
    {
      "cell_type": "code",
      "source": [
        "counts = measurements\n",
        "shots = sum(counts.values())\n",
        "probabilities = {k: v / shots for k, v in counts.items()}\n",
        "\n",
        "fig, ax = plt.subplots(figsize=(12, 5))\n",
        "ax.bar(range(len(probabilities)), probabilities.values())\n",
        "ax.set_xlabel('States')\n",
        "ax.set_ylabel('Probabilities')\n",
        "ax.set_title('BB84 Probabilities')\n",
        "ax.set_xticks(range(len(probabilities)))\n",
        "ax.set_xticklabels(probabilities.keys(), rotation=90)\n",
        "plt.show()\n",
        "\n",
        "\n"
      ],
      "metadata": {
        "id": "-jMIjzEYgIzx"
      },
      "execution_count": null,
      "outputs": []
    },
    {
      "cell_type": "code",
      "source": [],
      "metadata": {
        "id": "QGsmHb01kt99"
      },
      "execution_count": null,
      "outputs": []
    }
  ]
}